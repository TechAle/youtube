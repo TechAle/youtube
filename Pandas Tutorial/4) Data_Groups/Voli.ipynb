{
 "cells": [
  {
   "cell_type": "markdown",
   "metadata": {},
   "source": [
    "## Librerie"
   ]
  },
  {
   "cell_type": "code",
   "execution_count": 61,
   "metadata": {},
   "outputs": [],
   "source": [
    "import pandas as pd\n",
    "import warnings\n",
    "from datetime import datetime"
   ]
  },
  {
   "cell_type": "code",
   "execution_count": 62,
   "metadata": {},
   "outputs": [],
   "source": [
    "## Apro il csv ignorando l'errore di numpy\n",
    "with warnings.catch_warnings():\n",
    "    warnings.simplefilter(action='ignore', category=FutureWarning)\n",
    "    df = pd.read_csv(\"DelayedFlights.csv\", index_col = \"Unnamed: 0\")"
   ]
  },
  {
   "cell_type": "code",
   "execution_count": 63,
   "metadata": {},
   "outputs": [],
   "source": [
    "pd.set_option('display.max_columns', 500)\n",
    "# df"
   ]
  },
  {
   "cell_type": "code",
   "execution_count": 64,
   "metadata": {},
   "outputs": [],
   "source": [
    "# df.columns\n",
    "'''  Year', 'Month', 'DayofMonth', 'DayOfWeek', 'DepTime', 'CRSDepTime',\n",
    "    'ArrTime', 'CRSArrTime', 'UniqueCarrier', 'FlightNum', 'TailNum',\n",
    "    'ActualElapsedTime', 'CRSElapsedTime', 'AirTime', 'ArrDelay',\n",
    "    'DepDelay', 'Origin', 'Dest', 'Distance', 'TaxiIn', 'TaxiOut',\n",
    "    'Cancelled', 'CancellationCode', 'Diverted', 'CarrierDelay',\n",
    "    'WeatherDelay', 'NASDelay', 'SecurityDelay', 'LateAircraftDelay'''\n",
    "## Rendiamo le date stringhe\n",
    "df[[\"Year\", \"Month\", \"DayofMonth\"]] = df[[\"Year\", \"Month\", \"DayofMonth\"]].astype(str)\n",
    "## Uniamo le date\n",
    "data = df[\"DayofMonth\"] + '-' + df[\"Month\"] + '-' + df[\"Year\"]\n",
    "## Tolgo quelle di prima\n",
    "df.drop(columns = [\"Year\", \"Month\", \"DayofMonth\", \"DayOfWeek\"], inplace = True)\n",
    "## Inserisco la data all'inizio\n",
    "df.insert(0, \"data\", data)\n",
    "## Rendo le date di tipo date\n",
    "df[\"data\"] = df[\"data\"].apply(lambda x: datetime.strptime(x, '%d-%m-%Y'))\n",
    "## Stampo\n",
    "# df[\"data\"]\n",
    "## Tempo trascorso fra le 2 date\n",
    "# df[\"data\"][7009710] - df[\"data\"][0]\n",
    "## Prendo il nome del giorno\n",
    "# df.loc[0, \"data\"].day_name()"
   ]
  },
  {
   "cell_type": "code",
   "execution_count": 65,
   "metadata": {},
   "outputs": [],
   "source": [
    "## Media\n",
    "# df[\"AirTime\"].mean()\n",
    "## Mediana\n",
    "# df[\"AirTime\"].median()\n",
    "## Descrizione\n",
    "# df.describe()"
   ]
  },
  {
   "cell_type": "code",
   "execution_count": 129,
   "metadata": {},
   "outputs": [],
   "source": [
    "origine = df.groupby(['Origin'])"
   ]
  },
  {
   "cell_type": "code",
   "execution_count": 128,
   "metadata": {},
   "outputs": [
    {
     "data": {
      "text/plain": [
       "'EWR'"
      ]
     },
     "execution_count": 128,
     "metadata": {},
     "output_type": "execute_result"
    }
   ],
   "source": [
    "## Prendiamo dell'origine BGR qual'è la destinazione più usata\n",
    "origine.get_group(\"BGR\")[\"Dest\"].value_counts().index[0]"
   ]
  }
 ],
 "metadata": {
  "kernelspec": {
   "display_name": "Python 3",
   "language": "python",
   "name": "python3"
  },
  "language_info": {
   "codemirror_mode": {
    "name": "ipython",
    "version": 3
   },
   "file_extension": ".py",
   "mimetype": "text/x-python",
   "name": "python",
   "nbconvert_exporter": "python",
   "pygments_lexer": "ipython3",
   "version": "3.7.6"
  }
 },
 "nbformat": 4,
 "nbformat_minor": 4
}
