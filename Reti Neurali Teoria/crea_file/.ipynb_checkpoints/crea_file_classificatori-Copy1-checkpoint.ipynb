{
 "cells": [
  {
   "cell_type": "code",
   "execution_count": 1,
   "metadata": {},
   "outputs": [],
   "source": [
    "import numpy as np"
   ]
  },
  {
   "cell_type": "code",
   "execution_count": 2,
   "metadata": {},
   "outputs": [],
   "source": [
    "input_ = np.array([\n",
    "    [0.5, 2.0, 0],\n",
    "    [1.5, 1.0, 0],\n",
    "    [2.5,2.0,0],\n",
    "    [3.5,1.0,0],\n",
    "    [2.0,4.0,1],\n",
    "    [1.5,5.0,1],\n",
    "    [4.0,2.5,1],\n",
    "    [3.5,4.0,1],\n",
    "    [5,3.5,1],\n",
    "], dtype=float)\n",
    "mistery = np.array([\n",
    "    [3,1],\n",
    "    [2,3.3],\n",
    "    [5,3]\n",
    "], dtype=float)"
   ]
  },
  {
   "cell_type": "code",
   "execution_count": 3,
   "metadata": {},
   "outputs": [],
   "source": [
    "np.save(open(\"input_classificatori.npy\", \"wb\"), input_)"
   ]
  },
  {
   "cell_type": "code",
   "execution_count": 4,
   "metadata": {},
   "outputs": [],
   "source": [
    "np.save(open(\"mistery_classificatori.npy\", \"wb\"), mistery)"
   ]
  }
 ],
 "metadata": {
  "kernelspec": {
   "display_name": "Python 3",
   "language": "python",
   "name": "python3"
  },
  "language_info": {
   "codemirror_mode": {
    "name": "ipython",
    "version": 3
   },
   "file_extension": ".py",
   "mimetype": "text/x-python",
   "name": "python",
   "nbconvert_exporter": "python",
   "pygments_lexer": "ipython3",
   "version": "3.7.6"
  }
 },
 "nbformat": 4,
 "nbformat_minor": 4
}
