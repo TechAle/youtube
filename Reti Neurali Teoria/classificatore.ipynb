{
 "cells": [
  {
   "cell_type": "markdown",
   "metadata": {},
   "source": [
    "## Librerie"
   ]
  },
  {
   "cell_type": "code",
   "execution_count": 8,
   "metadata": {},
   "outputs": [],
   "source": [
    "import numpy as np\n",
    "import matplotlib.pyplot as plt"
   ]
  },
  {
   "cell_type": "markdown",
   "metadata": {},
   "source": [
    "## Settings"
   ]
  },
  {
   "cell_type": "code",
   "execution_count": 9,
   "metadata": {},
   "outputs": [],
   "source": [
    "ITERAZIONI = 200000\n",
    "LEARNING_RATE = 0.27"
   ]
  },
  {
   "cell_type": "markdown",
   "metadata": {},
   "source": [
    "## Funzioni che useremo"
   ]
  },
  {
   "cell_type": "code",
   "execution_count": 10,
   "metadata": {},
   "outputs": [],
   "source": [
    "## Activation function\n",
    "def sigmoid(x):\n",
    "    return 1 / (1 + np.exp(-x))\n",
    "def sigmoid_p(x):\n",
    "    return x * ( 1 - x )"
   ]
  },
  {
   "cell_type": "markdown",
   "metadata": {},
   "source": [
    "## Dati"
   ]
  },
  {
   "cell_type": "code",
   "execution_count": 11,
   "metadata": {},
   "outputs": [],
   "source": [
    "inputs = np.load(\"input_classificatori.npy\")\n",
    "mistery = np.load(\"mistery_classificatori.npy\")"
   ]
  },
  {
   "cell_type": "markdown",
   "metadata": {},
   "source": [
    "## Grafico"
   ]
  },
  {
   "cell_type": "code",
   "execution_count": 12,
   "metadata": {},
   "outputs": [
    {
     "data": {
      "image/png": "[encoded data removed]",
      "text/plain": [
       "<Figure size 432x288 with 1 Axes>"
      ]
     },
     "metadata": {
      "needs_background": "light"
     },
     "output_type": "display_data"
    }
   ],
   "source": [
    "fig, ax = plt.subplots()\n",
    "for i in inputs:\n",
    "    ax.scatter(i[0], i[1], color = 'r' if i[2] == 0 else 'b')\n",
    "for i in mistery:\n",
    "    ax.scatter(i[0], i[1], color = 'gray')"
   ]
  },
  {
   "cell_type": "markdown",
   "metadata": {},
   "source": [
    "## Pesi randomici"
   ]
  },
  {
   "cell_type": "code",
   "execution_count": 13,
   "metadata": {},
   "outputs": [],
   "source": [
    "w = np.random.randn(1,3)"
   ]
  },
  {
   "cell_type": "markdown",
   "metadata": {},
   "source": [
    "## Training"
   ]
  },
  {
   "cell_type": "code",
   "execution_count": 14,
   "metadata": {},
   "outputs": [],
   "source": [
    "costi_lista = np.empty(0, dtype=float)\n",
    "## Iteriamo per tutte le iterazioni\n",
    "for i in range(ITERAZIONI):\n",
    "    ## Prendo un valore casuale dal nostro dataset\n",
    "    val_c = np.random.randint(len(inputs))\n",
    "    ## Ricavo i rispettivi input\n",
    "    input_eff = inputs[val_c, :-1]\n",
    "    ## Prendo l'output\n",
    "    target = inputs[val_c, -1]\n",
    "    \n",
    "    ## Calcolo la somma del\n",
    "    nn = np.multiply( w[0, :-1], input_eff ).sum() + w[0, -1]\n",
    "    ## Utilizzo l'activation function\n",
    "    pred = sigmoid(nn)\n",
    "    \n",
    "    ## Ricavo il nostro costo\n",
    "    cost = np.square(pred - target)\n",
    "    \n",
    "    ### Derivate\n",
    "    ## Derivata del costo\n",
    "    dcost = 2 * ( pred - target )\n",
    "    ## Derivata del nostro sigmoid\n",
    "    dpred = sigmoid_p(pred)\n",
    "    ## Derivata dei vari pesi + bias\n",
    "    d_inputs = np.append(input_eff, 1)\n",
    "    \n",
    "    ## Prendo la derivata finale\n",
    "    dcosts = dcost * dpred * d_inputs\n",
    "    w = w - LEARNING_RATE * dcosts\n",
    "    \n",
    "    if i % 1000 == 0:\n",
    "        costi_lista = np.append(costi_lista, cost)\n",
    "    \n",
    "    "
   ]
  },
  {
   "cell_type": "code",
   "execution_count": 15,
   "metadata": {},
   "outputs": [
    {
     "data": {
      "image/png": "[encoded data removed]",
      "text/plain": [
       "<Figure size 432x288 with 1 Axes>"
      ]
     },
     "metadata": {
      "needs_background": "light"
     },
     "output_type": "display_data"
    }
   ],
   "source": [
    "## Stampo i costi totali\n",
    "plt.plot(costi_lista)\n",
    "## Preparo per la visualizzazione\n",
    "w0 = w[0,0]\n",
    "w1 = w[0,1]\n",
    "b0 = w[0,2]\n",
    "def NN(lun, pel):\n",
    "    return False if sigmoid(w0 * lun + w1 * pel + b0) <= 0.5 else True"
   ]
  },
  {
   "cell_type": "code",
   "execution_count": 16,
   "metadata": {},
   "outputs": [
    {
     "data": {
      "image/png": "[encoded data removed]",
      "text/plain": [
       "<Figure size 432x288 with 1 Axes>"
      ]
     },
     "metadata": {
      "needs_background": "light"
     },
     "output_type": "display_data"
    }
   ],
   "source": [
    "fig, ax = plt.subplots()\n",
    "## Griglia\n",
    "for i in range(60):\n",
    "    for j in range(60):\n",
    "        # ax.scatter(i , j , \"lightcyan\" if nn(i ,j ) else \"salmon\")\n",
    "        ax.scatter(i / 10 , j / 10, color = \"lightcyan\" if NN(i/10,j/10) else \"salmon\" )\n",
    "## Stampo gli inputs\n",
    "for i in inputs:\n",
    "    ax.scatter(i[0], i[1], color = 'r' if i[2] == 0 else 'b' )\n",
    "## Stampo gli outputs\n",
    "for i in mistery:\n",
    "    ax.scatter(i[0], i[1], color = 'gray')"
   ]
  },
  {
   "cell_type": "code",
   "execution_count": null,
   "metadata": {},
   "outputs": [],
   "source": []
  }
 ],
 "metadata": {
  "kernelspec": {
   "display_name": "Python 3",
   "language": "python",
   "name": "python3"
  },
  "language_info": {
   "codemirror_mode": {
    "name": "ipython",
    "version": 3
   },
   "file_extension": ".py",
   "mimetype": "text/x-python",
   "name": "python",
   "nbconvert_exporter": "python",
   "pygments_lexer": "ipython3",
   "version": "3.7.6"
  }
 },
 "nbformat": 4,
 "nbformat_minor": 4
}
