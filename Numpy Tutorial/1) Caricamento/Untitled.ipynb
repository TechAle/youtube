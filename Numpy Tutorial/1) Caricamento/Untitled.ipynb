{
 "cells": [
  {
   "cell_type": "markdown",
   "metadata": {},
   "source": [
    "## Librerie"
   ]
  },
  {
   "cell_type": "code",
   "execution_count": 2,
   "metadata": {},
   "outputs": [],
   "source": [
    "import numpy as np\n",
    "import sys"
   ]
  },
  {
   "cell_type": "markdown",
   "metadata": {},
   "source": [
    "## Caricamento"
   ]
  },
  {
   "cell_type": "code",
   "execution_count": 3,
   "metadata": {},
   "outputs": [],
   "source": [
    "## Inizializzazione con dati scelti dal programmatore\n",
    "cliente_aggiuntivo = np.array([\"Angelica\", 11, 0.1134, 4], dtype=\"str\")\n",
    "## Caricamento pazienti_1 con loadtxt\n",
    "pazienti_1 = np.loadtxt(\"pazienti_1.csv\", delimiter = ',')\n",
    "## Caricamento dei nomi dei pazienti_1 tramite genfromtxt\n",
    "pazienti_1_nome = np.genfromtxt(\"pazienti_1_nome.csv\", dtype=\"str\")\n",
    "## Caricamento da file npy\n",
    "pazienti_2 = np.load(\"pazienti_2.npy\")\n",
    "## Caricamento da file di testo\n",
    "nomi = np.loadtxt(\"nomi.txt\", dtype = 'str')\n",
    "## Stampa completa\n",
    "np.set_printoptions(threshold = sys.maxsize)"
   ]
  },
  {
   "cell_type": "markdown",
   "metadata": {},
   "source": [
    "## Tipi"
   ]
  },
  {
   "cell_type": "code",
   "execution_count": 4,
   "metadata": {},
   "outputs": [
    {
     "data": {
      "text/plain": [
       "array([[0., 0., 0., 0., 0.],\n",
       "       [0., 0., 0., 0., 0.]])"
      ]
     },
     "execution_count": 4,
     "metadata": {},
     "output_type": "execute_result"
    }
   ],
   "source": [
    "## Zeri\n",
    "np.zeros((2,5))"
   ]
  },
  {
   "cell_type": "code",
   "execution_count": 5,
   "metadata": {},
   "outputs": [
    {
     "data": {
      "text/plain": [
       "array([[1., 1., 1., 1., 1.],\n",
       "       [1., 1., 1., 1., 1.]])"
      ]
     },
     "execution_count": 5,
     "metadata": {},
     "output_type": "execute_result"
    }
   ],
   "source": [
    "## Uno\n",
    "np.ones((2,5))"
   ]
  },
  {
   "cell_type": "code",
   "execution_count": 6,
   "metadata": {},
   "outputs": [
    {
     "data": {
      "text/plain": [
       "array([[9, 9, 9, 9, 9],\n",
       "       [9, 9, 9, 9, 9]])"
      ]
     },
     "execution_count": 6,
     "metadata": {},
     "output_type": "execute_result"
    }
   ],
   "source": [
    "## Numeri a scelta\n",
    "np.full((2,5), 9)"
   ]
  },
  {
   "cell_type": "code",
   "execution_count": 7,
   "metadata": {},
   "outputs": [
    {
     "data": {
      "text/plain": [
       "array([[9., 9.],\n",
       "       [9., 9.],\n",
       "       [9., 9.]])"
      ]
     },
     "execution_count": 7,
     "metadata": {},
     "output_type": "execute_result"
    }
   ],
   "source": [
    "## Shape di un altra variabile\n",
    "np.full_like(pazienti_1, 9)"
   ]
  },
  {
   "cell_type": "code",
   "execution_count": 8,
   "metadata": {},
   "outputs": [
    {
     "data": {
      "text/plain": [
       "array([0, 1, 2, 3, 4, 5, 6, 7, 8, 9])"
      ]
     },
     "execution_count": 8,
     "metadata": {},
     "output_type": "execute_result"
    }
   ],
   "source": [
    "## Scala da 0 a 10 (non compreso)\n",
    "np.arange(0,10)"
   ]
  },
  {
   "cell_type": "code",
   "execution_count": 9,
   "metadata": {},
   "outputs": [
    {
     "data": {
      "text/plain": [
       "array([2, 4, 3, 4])"
      ]
     },
     "execution_count": 9,
     "metadata": {},
     "output_type": "execute_result"
    }
   ],
   "source": [
    "## Numeri Randomici interi\n",
    "np.random.randint(2, 5, size = (4))"
   ]
  },
  {
   "cell_type": "code",
   "execution_count": 10,
   "metadata": {},
   "outputs": [
    {
     "data": {
      "text/plain": [
       "array([[[0.0094738 , 0.59020951],\n",
       "        [0.19743826, 0.80877088]],\n",
       "\n",
       "       [[0.65171935, 0.57394455],\n",
       "        [0.86134305, 0.56480465]],\n",
       "\n",
       "       [[0.61774543, 0.27531872],\n",
       "        [0.2314957 , 0.60976235]]])"
      ]
     },
     "execution_count": 10,
     "metadata": {},
     "output_type": "execute_result"
    }
   ],
   "source": [
    "## Numeri randomici float\n",
    "np.random.rand(3,2,2)"
   ]
  },
  {
   "cell_type": "markdown",
   "metadata": {},
   "source": [
    "## Creazione pazienti 1"
   ]
  },
  {
   "cell_type": "code",
   "execution_count": 11,
   "metadata": {},
   "outputs": [],
   "source": [
    "## Creazione della sensibilità (float)\n",
    "sensibilita = np.random.rand(pazienti_1.shape[0], 1)"
   ]
  },
  {
   "cell_type": "code",
   "execution_count": 12,
   "metadata": {},
   "outputs": [],
   "source": [
    "## Imposto pazienti_1_nome per essere compatibile con pazienti_1\n",
    "pazienti_1_nome = pazienti_1_nome.reshape(3,1)"
   ]
  },
  {
   "cell_type": "code",
   "execution_count": 13,
   "metadata": {},
   "outputs": [],
   "source": [
    "## Aggiunto pazienti_1_nome\n",
    "pazienti_1 = np.hstack([pazienti_1_nome, pazienti_1])"
   ]
  },
  {
   "cell_type": "code",
   "execution_count": 14,
   "metadata": {},
   "outputs": [],
   "source": [
    "## Aggiungo la sensibilità alla penultima posizione\n",
    "pazienti_1 = np.insert(pazienti_1, [2], sensibilita, axis = 1)"
   ]
  },
  {
   "cell_type": "code",
   "execution_count": 15,
   "metadata": {},
   "outputs": [
    {
     "data": {
      "text/plain": [
       "array([['Maria,', '5.0', '0.7092149004283088', '3.0'],\n",
       "       ['Rosanna,', '2.0', '0.5574631054782012', '6.0'],\n",
       "       ['Giacopo', '1.0', '0.4776569495550106', '9.0']], dtype='<U32')"
      ]
     },
     "execution_count": 15,
     "metadata": {},
     "output_type": "execute_result"
    }
   ],
   "source": [
    "## Stampo\n",
    "pazienti_1"
   ]
  },
  {
   "cell_type": "markdown",
   "metadata": {},
   "source": [
    "## Pazienti 2"
   ]
  },
  {
   "cell_type": "code",
   "execution_count": 16,
   "metadata": {},
   "outputs": [],
   "source": [
    "'''\n",
    "    Creo un array con 3 righe e 2 colonne dove\n",
    "    la prima colonna contiene dei nomi casuali\n",
    "    la seconda colonna un numero randomico intero\n",
    "'''\n",
    "prima = np.array([[np.random.choice(nomi), np.random.randint(0,10)] for _ in range(3)])"
   ]
  },
  {
   "cell_type": "code",
   "execution_count": 17,
   "metadata": {},
   "outputs": [],
   "source": [
    "## Aggiungo tutto a pazienti_2\n",
    "pazienti_2 = np.hstack([prima, pazienti_2])"
   ]
  },
  {
   "cell_type": "code",
   "execution_count": 18,
   "metadata": {},
   "outputs": [
    {
     "data": {
      "text/plain": [
       "array([['Linnea', '2', '0.123', '9.0'],\n",
       "       ['Giacomo', '4', '0.914', '3.0'],\n",
       "       ['Nariano', '7', '0.401', '1.0']], dtype='<U32')"
      ]
     },
     "execution_count": 18,
     "metadata": {},
     "output_type": "execute_result"
    }
   ],
   "source": [
    "## Stampo\n",
    "pazienti_2"
   ]
  },
  {
   "cell_type": "markdown",
   "metadata": {},
   "source": [
    "## Unione"
   ]
  },
  {
   "cell_type": "code",
   "execution_count": 22,
   "metadata": {},
   "outputs": [],
   "source": [
    "'''\n",
    "    Unisco tutto per far sì che si ottenga un array con la seguente impostazione:\n",
    "    cliente_aggiuntivo\n",
    "    pazienti_1\n",
    "    pazienti_2\n",
    "'''\n",
    "pazienti = np.vstack([cliente_aggiuntivo, pazienti_1, pazienti_2])"
   ]
  },
  {
   "cell_type": "code",
   "execution_count": 23,
   "metadata": {},
   "outputs": [
    {
     "data": {
      "text/plain": [
       "array([['Angelica', '11', '0.1134', '4'],\n",
       "       ['Maria,', '5.0', '0.7092149004283088', '3.0'],\n",
       "       ['Rosanna,', '2.0', '0.5574631054782012', '6.0'],\n",
       "       ['Giacopo', '1.0', '0.4776569495550106', '9.0'],\n",
       "       ['Linnea', '2', '0.123', '9.0'],\n",
       "       ['Giacomo', '4', '0.914', '3.0'],\n",
       "       ['Nariano', '7', '0.401', '1.0']], dtype='<U32')"
      ]
     },
     "execution_count": 23,
     "metadata": {},
     "output_type": "execute_result"
    }
   ],
   "source": [
    "## Stampa\n",
    "pazienti"
   ]
  },
  {
   "cell_type": "code",
   "execution_count": null,
   "metadata": {},
   "outputs": [],
   "source": []
  }
 ],
 "metadata": {
  "kernelspec": {
   "display_name": "Python 3",
   "language": "python",
   "name": "python3"
  },
  "language_info": {
   "codemirror_mode": {
    "name": "ipython",
    "version": 3
   },
   "file_extension": ".py",
   "mimetype": "text/x-python",
   "name": "python",
   "nbconvert_exporter": "python",
   "pygments_lexer": "ipython3",
   "version": "3.7.6"
  }
 },
 "nbformat": 4,
 "nbformat_minor": 4
}
