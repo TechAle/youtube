{
 "cells": [
  {
   "cell_type": "markdown",
   "metadata": {},
   "source": [
    "## Librerie"
   ]
  },
  {
   "cell_type": "code",
   "execution_count": 74,
   "metadata": {},
   "outputs": [],
   "source": [
    "import numpy as np\n",
    "import sys"
   ]
  },
  {
   "cell_type": "markdown",
   "metadata": {},
   "source": [
    "## Caricamento"
   ]
  },
  {
   "cell_type": "code",
   "execution_count": 75,
   "metadata": {},
   "outputs": [],
   "source": [
    "## Inizializzazione con dati scelti dal programmatore\n",
    "cliente_aggiuntivo = np.array([\"Angelica\", 11, 0.1134, 4], dtype=\"str\")\n",
    "## Caricamento pazienti_1 con loadtxt\n",
    "pazienti_1 = np.loadtxt(\"pazienti_1.csv\", delimiter = ',')\n",
    "## Caricamento dei nomi dei pazienti_1 tramite genfromtxt\n",
    "pazienti_1_nome = np.genfromtxt(\"pazienti_1_nome.csv\", dtype=\"str\")\n",
    "## Caricamento da file npy\n",
    "pazienti_2 = np.load(\"pazienti_2.npy\")\n",
    "## Caricamento da file di testo\n",
    "nomi = np.loadtxt(\"nomi.txt\", dtype = 'str')\n",
    "## Stampa completa\n",
    "np.set_printoptions(threshold = sys.maxsize)"
   ]
  },
  {
   "cell_type": "markdown",
   "metadata": {},
   "source": [
    "## Tipi"
   ]
  },
  {
   "cell_type": "code",
   "execution_count": 76,
   "metadata": {},
   "outputs": [
    {
     "data": {
      "text/plain": [
       "array([[0., 0., 0., 0., 0.],\n",
       "       [0., 0., 0., 0., 0.]])"
      ]
     },
     "execution_count": 76,
     "metadata": {},
     "output_type": "execute_result"
    }
   ],
   "source": [
    "## Zeri\n",
    "np.zeros((2,5))"
   ]
  },
  {
   "cell_type": "code",
   "execution_count": 77,
   "metadata": {},
   "outputs": [
    {
     "data": {
      "text/plain": [
       "array([[1., 1., 1., 1., 1.],\n",
       "       [1., 1., 1., 1., 1.]])"
      ]
     },
     "execution_count": 77,
     "metadata": {},
     "output_type": "execute_result"
    }
   ],
   "source": [
    "## Uno\n",
    "np.ones((2,5))"
   ]
  },
  {
   "cell_type": "code",
   "execution_count": 78,
   "metadata": {},
   "outputs": [
    {
     "data": {
      "text/plain": [
       "array([[9., 9.],\n",
       "       [9., 9.],\n",
       "       [9., 9.]])"
      ]
     },
     "execution_count": 78,
     "metadata": {},
     "output_type": "execute_result"
    }
   ],
   "source": [
    "## Shape di un altra variabile\n",
    "np.full_like(pazienti_1, 9)"
   ]
  },
  {
   "cell_type": "code",
   "execution_count": 79,
   "metadata": {},
   "outputs": [
    {
     "data": {
      "text/plain": [
       "array([0, 1, 2, 3, 4, 5, 6, 7, 8, 9])"
      ]
     },
     "execution_count": 79,
     "metadata": {},
     "output_type": "execute_result"
    }
   ],
   "source": [
    "## Scala da 0 a 10 (non compreso)\n",
    "np.arange(0,10)"
   ]
  },
  {
   "cell_type": "code",
   "execution_count": 80,
   "metadata": {},
   "outputs": [
    {
     "data": {
      "text/plain": [
       "array([2, 3, 4, 4])"
      ]
     },
     "execution_count": 80,
     "metadata": {},
     "output_type": "execute_result"
    }
   ],
   "source": [
    "## Numeri Randomici interi\n",
    "np.random.randint(2, 5, size = (4))"
   ]
  },
  {
   "cell_type": "code",
   "execution_count": 81,
   "metadata": {},
   "outputs": [
    {
     "data": {
      "text/plain": [
       "array([[[0.24703155, 0.14927494],\n",
       "        [0.7920084 , 0.55657565]],\n",
       "\n",
       "       [[0.71198687, 0.63837642],\n",
       "        [0.26674248, 0.06100644]],\n",
       "\n",
       "       [[0.93546054, 0.27001669],\n",
       "        [0.29025654, 0.89722946]]])"
      ]
     },
     "execution_count": 81,
     "metadata": {},
     "output_type": "execute_result"
    }
   ],
   "source": [
    "## Numeri randomici float\n",
    "np.random.rand(3,2,2)"
   ]
  },
  {
   "cell_type": "markdown",
   "metadata": {},
   "source": [
    "## Creazione pazienti 1"
   ]
  },
  {
   "cell_type": "code",
   "execution_count": 82,
   "metadata": {},
   "outputs": [],
   "source": [
    "## Creazione della sensibilità (float)\n",
    "sensibilita = np.random.rand(pazienti_1.shape[0], 1)"
   ]
  },
  {
   "cell_type": "code",
   "execution_count": 83,
   "metadata": {},
   "outputs": [],
   "source": [
    "## Imposto pazienti_1_nome per essere compatibile con pazienti_1\n",
    "pazienti_1_nome = pazienti_1_nome.reshape(3,1)"
   ]
  },
  {
   "cell_type": "code",
   "execution_count": 84,
   "metadata": {},
   "outputs": [],
   "source": [
    "## Aggiunto pazienti_1_nome\n",
    "pazienti_1 = np.hstack([pazienti_1_nome, pazienti_1])"
   ]
  },
  {
   "cell_type": "code",
   "execution_count": 85,
   "metadata": {},
   "outputs": [],
   "source": [
    "## Aggiungo la sensibilità alla penultima posizione\n",
    "pazienti_1 = np.insert(pazienti_1, [2], sensibilita, axis = 1)"
   ]
  },
  {
   "cell_type": "code",
   "execution_count": 86,
   "metadata": {},
   "outputs": [
    {
     "data": {
      "text/plain": [
       "array([['Maria,', '5.0', '0.8483012639358164', '3.0'],\n",
       "       ['Rosanna,', '2.0', '0.7731361527340781', '6.0'],\n",
       "       ['Giacopo', '1.0', '0.35428132586074557', '9.0']], dtype='<U32')"
      ]
     },
     "execution_count": 86,
     "metadata": {},
     "output_type": "execute_result"
    }
   ],
   "source": [
    "## Stampo\n",
    "pazienti_1"
   ]
  },
  {
   "cell_type": "markdown",
   "metadata": {},
   "source": [
    "## Pazienti 2"
   ]
  },
  {
   "cell_type": "code",
   "execution_count": 87,
   "metadata": {},
   "outputs": [],
   "source": [
    "'''\n",
    "    Creo un array con 3 righe e 2 colonne dove\n",
    "    la prima colonna contiene dei nomi casuali\n",
    "    la seconda colonna un numero randomico intero\n",
    "'''\n",
    "prima = np.array([[np.random.choice(nomi), np.random.randint(0,10)] for _ in range(3)])"
   ]
  },
  {
   "cell_type": "code",
   "execution_count": 88,
   "metadata": {},
   "outputs": [],
   "source": [
    "## Aggiungo tutto a pazienti_2\n",
    "pazienti_2 = np.hstack([prima, pazienti_2])"
   ]
  },
  {
   "cell_type": "code",
   "execution_count": 89,
   "metadata": {},
   "outputs": [
    {
     "data": {
      "text/plain": [
       "array([['Rahda', '4', '0.123', '9.0'],\n",
       "       ['Linnea', '4', '0.914', '3.0'],\n",
       "       ['Naomi', '5', '0.401', '1.0']], dtype='<U32')"
      ]
     },
     "execution_count": 89,
     "metadata": {},
     "output_type": "execute_result"
    }
   ],
   "source": [
    "## Stampo\n",
    "pazienti_2"
   ]
  },
  {
   "cell_type": "markdown",
   "metadata": {},
   "source": [
    "## Unione"
   ]
  },
  {
   "cell_type": "code",
   "execution_count": 90,
   "metadata": {},
   "outputs": [],
   "source": [
    "'''\n",
    "    Unisco tutto per far sì che si ottenga un array con la seguente impostazione:\n",
    "    cliente_aggiuntivo\n",
    "    pazienti_1\n",
    "    pazienti_2\n",
    "'''\n",
    "pazienti = np.vstack([cliente_aggiuntivo, pazienti_1, pazienti_2])"
   ]
  },
  {
   "cell_type": "markdown",
   "metadata": {},
   "source": [
    "## Indexing"
   ]
  },
  {
   "cell_type": "code",
   "execution_count": 91,
   "metadata": {},
   "outputs": [
    {
     "data": {
      "text/plain": [
       "array([['Angelica', '11', '0.1134', '4'],\n",
       "       ['Maria,', '5.0', '0.8483012639358164', '3.0'],\n",
       "       ['Rosanna,', '2.0', '0.7731361527340781', '6.0'],\n",
       "       ['Giacopo', '1.0', '0.35428132586074557', '9.0'],\n",
       "       ['Rahda', '4', '0.123', '9.0'],\n",
       "       ['Linnea', '4', '0.914', '3.0'],\n",
       "       ['Naomi', '5', '0.401', '1.0']], dtype='<U32')"
      ]
     },
     "execution_count": 91,
     "metadata": {},
     "output_type": "execute_result"
    }
   ],
   "source": [
    "## Stampa\n",
    "pazienti"
   ]
  },
  {
   "cell_type": "code",
   "execution_count": 92,
   "metadata": {},
   "outputs": [
    {
     "data": {
      "text/plain": [
       "'Angelica'"
      ]
     },
     "execution_count": 92,
     "metadata": {},
     "output_type": "execute_result"
    }
   ],
   "source": [
    "## Prendo il valore alla colonna n^0 e alla riga n^0\n",
    "pazienti[0, 0]"
   ]
  },
  {
   "cell_type": "code",
   "execution_count": 93,
   "metadata": {},
   "outputs": [
    {
     "data": {
      "text/plain": [
       "array(['Angelica', 'Maria,', 'Rosanna,', 'Giacopo', 'Rahda', 'Linnea',\n",
       "       'Naomi'], dtype='<U32')"
      ]
     },
     "execution_count": 93,
     "metadata": {},
     "output_type": "execute_result"
    }
   ],
   "source": [
    "## prendo i valori di tutte le righe alla colonna n^0\n",
    "pazienti[:, 0]"
   ]
  },
  {
   "cell_type": "code",
   "execution_count": 94,
   "metadata": {},
   "outputs": [
    {
     "data": {
      "text/plain": [
       "array([['11', '0.1134'],\n",
       "       ['5.0', '0.8483012639358164'],\n",
       "       ['2.0', '0.7731361527340781'],\n",
       "       ['1.0', '0.35428132586074557'],\n",
       "       ['4', '0.123'],\n",
       "       ['4', '0.914'],\n",
       "       ['5', '0.401']], dtype='<U32')"
      ]
     },
     "execution_count": 94,
     "metadata": {},
     "output_type": "execute_result"
    }
   ],
   "source": [
    "## Prendo i valori di tutte le righe però delle colonne centrali\n",
    "pazienti[:, 1 : -1]"
   ]
  },
  {
   "cell_type": "code",
   "execution_count": 95,
   "metadata": {},
   "outputs": [],
   "source": [
    "## Inizializzo array\n",
    "prova = np.array([1,2,3,4,5])"
   ]
  },
  {
   "cell_type": "code",
   "execution_count": 96,
   "metadata": {},
   "outputs": [
    {
     "data": {
      "text/plain": [
       "array([1, 2, 3, 4, 5])"
      ]
     },
     "execution_count": 96,
     "metadata": {},
     "output_type": "execute_result"
    }
   ],
   "source": [
    "## Stampo\n",
    "prova"
   ]
  },
  {
   "cell_type": "code",
   "execution_count": 97,
   "metadata": {},
   "outputs": [
    {
     "data": {
      "text/plain": [
       "array([2, 3, 4, 5, 6])"
      ]
     },
     "execution_count": 97,
     "metadata": {},
     "output_type": "execute_result"
    }
   ],
   "source": [
    "## Aggiungo 1 a tutti i valori\n",
    "prova + 1"
   ]
  },
  {
   "cell_type": "code",
   "execution_count": 98,
   "metadata": {},
   "outputs": [
    {
     "data": {
      "text/plain": [
       "array([ 0.54030231, -0.41614684, -0.9899925 , -0.65364362,  0.28366219])"
      ]
     },
     "execution_count": 98,
     "metadata": {},
     "output_type": "execute_result"
    }
   ],
   "source": [
    "## Faccio il coseno di tutti i valori\n",
    "np.cos(prova)"
   ]
  },
  {
   "cell_type": "code",
   "execution_count": 99,
   "metadata": {},
   "outputs": [
    {
     "data": {
      "text/plain": [
       "array([2, 4])"
      ]
     },
     "execution_count": 99,
     "metadata": {},
     "output_type": "execute_result"
    }
   ],
   "source": [
    "## Prendo tutti i valori pari\n",
    "prova[ prova % 2 == 0]"
   ]
  },
  {
   "cell_type": "code",
   "execution_count": 100,
   "metadata": {},
   "outputs": [
    {
     "ename": "SyntaxError",
     "evalue": "invalid syntax (<ipython-input-100-80c82fe887c1>, line 2)",
     "output_type": "error",
     "traceback": [
      "\u001b[0;36m  File \u001b[0;32m\"<ipython-input-100-80c82fe887c1>\"\u001b[0;36m, line \u001b[0;32m2\u001b[0m\n\u001b[0;31m    e maggiori uguali a 6\u001b[0m\n\u001b[0m             ^\u001b[0m\n\u001b[0;31mSyntaxError\u001b[0m\u001b[0;31m:\u001b[0m invalid syntax\n"
     ]
    }
   ],
   "source": [
    "## Prendo tutti i valori che sono minori uguali a 3\n",
    "e maggiori uguali a 6\n",
    "~(prova > 3) & (prova < 6)"
   ]
  },
  {
   "cell_type": "markdown",
   "metadata": {},
   "source": [
    "## Somma"
   ]
  },
  {
   "cell_type": "code",
   "execution_count": 101,
   "metadata": {},
   "outputs": [],
   "source": [
    "'''\n",
    "    Prendo, della variabile pazienti_1 e pazienti_2, \n",
    "    l'ultima colonna di tutte le righe.\n",
    "    Le trasformo in float siccome sono delle stringhe e poi sommo\n",
    "    tutte le righe fra le due colonne\n",
    "'''\n",
    "somma = pazienti_1[:, -1].astype(float) + pazienti_2[:, -1].astype(float)"
   ]
  },
  {
   "cell_type": "code",
   "execution_count": 102,
   "metadata": {},
   "outputs": [
    {
     "data": {
      "text/plain": [
       "array([12.,  9., 10.])"
      ]
     },
     "execution_count": 102,
     "metadata": {},
     "output_type": "execute_result"
    }
   ],
   "source": [
    "## Stampa\n",
    "somma"
   ]
  },
  {
   "cell_type": "code",
   "execution_count": 103,
   "metadata": {},
   "outputs": [
    {
     "data": {
      "text/plain": [
       "31.0"
      ]
     },
     "execution_count": 103,
     "metadata": {},
     "output_type": "execute_result"
    }
   ],
   "source": [
    "## Faccio la somma di tutti i valori dell'array\n",
    "somma.sum()"
   ]
  },
  {
   "cell_type": "markdown",
   "metadata": {},
   "source": [
    "## Esercizio"
   ]
  },
  {
   "cell_type": "code",
   "execution_count": 104,
   "metadata": {},
   "outputs": [],
   "source": [
    "## Cercare di riprodurre l'immagine Esercizio.png utilizzando\n",
    "## Le funzioni numpy"
   ]
  },
  {
   "cell_type": "code",
   "execution_count": 105,
   "metadata": {},
   "outputs": [],
   "source": [
    "## Creo array con i numeri da 0 a 49 (non compreso) e lo rendo un 7*7\n",
    "array_rg = np.arange(0,49).reshape(7,7)"
   ]
  },
  {
   "cell_type": "code",
   "execution_count": 106,
   "metadata": {},
   "outputs": [],
   "source": [
    "## Ne creo una copia dove ci lavoreremo\n",
    "copia = np.copy(array_rg)"
   ]
  },
  {
   "cell_type": "code",
   "execution_count": 107,
   "metadata": {},
   "outputs": [],
   "source": [
    "## Rendi 0 le righe centrali con un padding di 2\n",
    "## Dall'alto e dal basso e con un padding orrizontale di 1\n",
    "copia[2 : -2, [1,-2]] = 0"
   ]
  },
  {
   "cell_type": "code",
   "execution_count": 108,
   "metadata": {},
   "outputs": [
    {
     "data": {
      "text/plain": [
       "array([[ 0,  1,  2,  3,  4,  5,  6],\n",
       "       [ 7,  8,  9, 10, 11, 12, 13],\n",
       "       [14,  0, 16, 17, 18,  0, 20],\n",
       "       [21,  0, 23, 24, 25,  0, 27],\n",
       "       [28,  0, 30, 31, 32,  0, 34],\n",
       "       [35, 36, 37, 38, 39, 40, 41],\n",
       "       [42, 43, 44, 45, 46, 47, 48]])"
      ]
     },
     "execution_count": 108,
     "metadata": {},
     "output_type": "execute_result"
    }
   ],
   "source": [
    "##Stampa\n",
    "copia"
   ]
  },
  {
   "cell_type": "code",
   "execution_count": 109,
   "metadata": {},
   "outputs": [],
   "source": [
    "## Rendo 0 i valori della riga n^1 e della penultima riga\n",
    "## Con uno spazio verticale di 1\n",
    "copia[[1, -2], 1 : -1] = 0"
   ]
  },
  {
   "cell_type": "code",
   "execution_count": 110,
   "metadata": {},
   "outputs": [
    {
     "data": {
      "text/plain": [
       "array([[ 0,  1,  2,  3,  4,  5,  6],\n",
       "       [ 7,  0,  0,  0,  0,  0, 13],\n",
       "       [14,  0, 16, 17, 18,  0, 20],\n",
       "       [21,  0, 23, 24, 25,  0, 27],\n",
       "       [28,  0, 30, 31, 32,  0, 34],\n",
       "       [35,  0,  0,  0,  0,  0, 41],\n",
       "       [42, 43, 44, 45, 46, 47, 48]])"
      ]
     },
     "execution_count": 110,
     "metadata": {},
     "output_type": "execute_result"
    }
   ],
   "source": [
    "## Stampa\n",
    "copia"
   ]
  },
  {
   "cell_type": "code",
   "execution_count": 111,
   "metadata": {},
   "outputs": [],
   "source": [
    "## Prendo il centro e lo rendo 0\n",
    "copia[int(copia.shape[0]/ 2) , int(copia.shape[0] / 2)] = 0"
   ]
  },
  {
   "cell_type": "code",
   "execution_count": 112,
   "metadata": {},
   "outputs": [
    {
     "data": {
      "text/plain": [
       "array([[ 0,  1,  2,  3,  4,  5,  6],\n",
       "       [ 7,  0,  0,  0,  0,  0, 13],\n",
       "       [14,  0, 16, 17, 18,  0, 20],\n",
       "       [21,  0, 23,  0, 25,  0, 27],\n",
       "       [28,  0, 30, 31, 32,  0, 34],\n",
       "       [35,  0,  0,  0,  0,  0, 41],\n",
       "       [42, 43, 44, 45, 46, 47, 48]])"
      ]
     },
     "execution_count": 112,
     "metadata": {},
     "output_type": "execute_result"
    }
   ],
   "source": [
    "## Stampa\n",
    "copia"
   ]
  }
 ],
 "metadata": {
  "kernelspec": {
   "display_name": "Python 3",
   "language": "python",
   "name": "python3"
  },
  "language_info": {
   "codemirror_mode": {
    "name": "ipython",
    "version": 3
   },
   "file_extension": ".py",
   "mimetype": "text/x-python",
   "name": "python",
   "nbconvert_exporter": "python",
   "pygments_lexer": "ipython3",
   "version": "3.7.6"
  }
 },
 "nbformat": 4,
 "nbformat_minor": 4
}
