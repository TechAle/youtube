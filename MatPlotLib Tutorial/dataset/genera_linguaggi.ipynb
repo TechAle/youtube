{
 "cells": [
  {
   "cell_type": "code",
   "execution_count": 13,
   "metadata": {},
   "outputs": [],
   "source": [
    "import pandas as pd\n",
    "from collections import Counter"
   ]
  },
  {
   "cell_type": "code",
   "execution_count": 14,
   "metadata": {},
   "outputs": [],
   "source": [
    "df_2016 = pd.read_csv(\"data_2016.csv\")\n",
    "df_2017 = pd.read_csv(\"data_2017.csv\")\n",
    "df_2018 = pd.read_csv(\"data_2018.csv\", low_memory=False)\n",
    "df_2019 = pd.read_csv(\"data_2019.csv\")\n",
    "df_2020 = pd.read_csv(\"data_2020.csv\")"
   ]
  },
  {
   "cell_type": "code",
   "execution_count": 15,
   "metadata": {},
   "outputs": [],
   "source": [
    "pd.set_option('display.max_rows', 2)\n",
    "pd.set_option('display.max_columns', 500)\n",
    "pd.set_option('display.width', 500)"
   ]
  },
  {
   "cell_type": "code",
   "execution_count": 16,
   "metadata": {},
   "outputs": [],
   "source": [
    "def conta_linguaggi(df):\n",
    "    cont = Counter()\n",
    "    for righe in df:\n",
    "        for linguaggi in righe:\n",
    "            cont[linguaggi] += 1\n",
    "    return cont"
   ]
  },
  {
   "cell_type": "code",
   "execution_count": 17,
   "metadata": {},
   "outputs": [],
   "source": [
    "contatore = {}\n",
    "contatore[2016] = conta_linguaggi( df_2016[\"tech_do\"].dropna().str.split(\"; \") )\n",
    "contatore[2017] = conta_linguaggi( df_2017[\"HaveWorkedLanguage\"].dropna().str.split(\"; \") )\n",
    "contatore[2018] = conta_linguaggi( df_2018[\"LanguageWorkedWith\"].dropna().str.split(';') )\n",
    "contatore[2019] = conta_linguaggi( df_2019[\"LanguageWorkedWith\"].dropna().str.split(';') )\n",
    "contatore[2020] = conta_linguaggi( df_2020[\"LanguageWorkedWith\"].dropna().str.split(';') )"
   ]
  },
  {
   "cell_type": "code",
   "execution_count": 18,
   "metadata": {},
   "outputs": [],
   "source": [
    "linguaggi = pd.DataFrame(contatore)"
   ]
  },
  {
   "cell_type": "code",
   "execution_count": 19,
   "metadata": {},
   "outputs": [],
   "source": [
    "linguaggi.to_csv(\"linguaggi.csv\")"
   ]
  },
  {
   "cell_type": "code",
   "execution_count": null,
   "metadata": {},
   "outputs": [],
   "source": []
  }
 ],
 "metadata": {
  "kernelspec": {
   "display_name": "Python 3",
   "language": "python",
   "name": "python3"
  },
  "language_info": {
   "codemirror_mode": {
    "name": "ipython",
    "version": 3
   },
   "file_extension": ".py",
   "mimetype": "text/x-python",
   "name": "python",
   "nbconvert_exporter": "python",
   "pygments_lexer": "ipython3",
   "version": "3.7.6"
  }
 },
 "nbformat": 4,
 "nbformat_minor": 4
}
